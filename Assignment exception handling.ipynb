{
 "cells": [
  {
   "cell_type": "markdown",
   "metadata": {},
   "source": [
    "## 1. Write a function to compute 5/0 and use try/except to catch the exceptions. "
   ]
  },
  {
   "cell_type": "code",
   "execution_count": 2,
   "metadata": {},
   "outputs": [
    {
     "ename": "ZeroDivisionError",
     "evalue": "division by zero",
     "output_type": "error",
     "traceback": [
      "\u001b[1;31m---------------------------------------------------------------------------\u001b[0m",
      "\u001b[1;31mZeroDivisionError\u001b[0m                         Traceback (most recent call last)",
      "\u001b[1;32m<ipython-input-2-0bd51fc38684>\u001b[0m in \u001b[0;36m<module>\u001b[1;34m\u001b[0m\n\u001b[0;32m      1\u001b[0m \u001b[0ma\u001b[0m\u001b[1;33m=\u001b[0m\u001b[1;36m5\u001b[0m\u001b[1;33m\u001b[0m\u001b[1;33m\u001b[0m\u001b[0m\n\u001b[0;32m      2\u001b[0m \u001b[0mb\u001b[0m\u001b[1;33m=\u001b[0m\u001b[1;36m0\u001b[0m\u001b[1;33m\u001b[0m\u001b[1;33m\u001b[0m\u001b[0m\n\u001b[1;32m----> 3\u001b[1;33m \u001b[0mc\u001b[0m\u001b[1;33m=\u001b[0m\u001b[0ma\u001b[0m\u001b[1;33m/\u001b[0m\u001b[0mb\u001b[0m\u001b[1;33m\u001b[0m\u001b[1;33m\u001b[0m\u001b[0m\n\u001b[0m",
      "\u001b[1;31mZeroDivisionError\u001b[0m: division by zero"
     ]
    }
   ],
   "source": [
    "a=5\n",
    "b=0\n",
    "c=a/b\n"
   ]
  },
  {
   "cell_type": "code",
   "execution_count": 3,
   "metadata": {},
   "outputs": [
    {
     "name": "stdout",
     "output_type": "stream",
     "text": [
      "Use number greater than 0, thankyou!\n"
     ]
    }
   ],
   "source": [
    "try:\n",
    "    a=5\n",
    "    b=0\n",
    "    c=a/b\n",
    "except ZeroDivisionError:\n",
    "    print(\"Please, use number greater than 0, thankyou!\")"
   ]
  },
  {
   "cell_type": "code",
   "execution_count": 17,
   "metadata": {},
   "outputs": [
    {
     "name": "stdout",
     "output_type": "stream",
     "text": [
      "Enter the number: 5\n",
      "Enter the number: 0\n",
      "Please, use number greater than 0, thankyou!\n"
     ]
    }
   ],
   "source": [
    "try:\n",
    "    a = int(input(\"Enter the number: \"))\n",
    "    b = int(input(\"Enter the number: \"))\n",
    "    c= a/b\n",
    "    print(c)\n",
    "except ZeroDivisionError:\n",
    "    print(\"Please, use number greater than 0, thankyou!\")\n",
    "except exception as ex:\n",
    "    print(ex)\n"
   ]
  },
  {
   "cell_type": "markdown",
   "metadata": {},
   "source": [
    "# 2. Implement a Python program to generate all sentences where subject is in\n",
    "# [\"Americans\", \"Indians\"] and verb is in [\"Play\", \"watch\"] and the object is      [\"Baseball\",\"cricket\"].\n",
    "* Hint: Subject,Verb and Object should be declared in the program as shown below.\n",
    "* subjects=[\"Americans \",\"Indians\"]\n",
    "* verbs=[\"play\",\"watch\"]\n",
    "* objects=[\"Baseball\",\"Cricket\"]\n",
    "\n",
    "# Output should come as below:\n",
    "* Americans play Baseball.\n",
    "* Americans play Cricket.\n",
    "* Americans watch Baseball.\n",
    "* Americans watch Cricket.\n",
    "* Indians play Baseball.\n",
    "* Indians play Cricket.\n",
    "* Indians watch Baseball.\n",
    "* Indians watch Cricket.\n"
   ]
  },
  {
   "cell_type": "code",
   "execution_count": 1,
   "metadata": {},
   "outputs": [],
   "source": [
    "subjects=[\"Americnas\", \"Indians\"]\n",
    "verbs=[\"play\", \"watch\"]\n",
    "objects=[\"baseball\", \"Cricket\"]"
   ]
  },
  {
   "cell_type": "code",
   "execution_count": 17,
   "metadata": {},
   "outputs": [
    {
     "name": "stdout",
     "output_type": "stream",
     "text": [
      "['Americans', 'play', 'baseball']\n",
      "['Americans', 'play', 'Cricket']\n",
      "['Americans', 'watch', 'baseball']\n",
      "['Americans', 'watch', 'Cricket']\n",
      "['Indians', 'play', 'baseball']\n",
      "['Indians', 'play', 'Cricket']\n",
      "['Indians', 'watch', 'baseball']\n",
      "['Indians', 'watch', 'Cricket']\n"
     ]
    }
   ],
   "source": [
    "subjects=[\"Americans\", \"Indians\"]\n",
    "verbs=[\"play\", \"watch\"]\n",
    "objects=[\"baseball\", \"Cricket\"]\n",
    "\n",
    "for subject in subjects:\n",
    "    for verb in verbs:\n",
    "        for object1 in objects:\n",
    "            all_sentence = [subject , verb, object1]\n",
    "            print(all_sentence)"
   ]
  },
  {
   "cell_type": "code",
   "execution_count": null,
   "metadata": {},
   "outputs": [],
   "source": []
  },
  {
   "cell_type": "code",
   "execution_count": null,
   "metadata": {},
   "outputs": [],
   "source": []
  }
 ],
 "metadata": {
  "kernelspec": {
   "display_name": "Python 3",
   "language": "python",
   "name": "python3"
  },
  "language_info": {
   "codemirror_mode": {
    "name": "ipython",
    "version": 3
   },
   "file_extension": ".py",
   "mimetype": "text/x-python",
   "name": "python",
   "nbconvert_exporter": "python",
   "pygments_lexer": "ipython3",
   "version": "3.8.8"
  }
 },
 "nbformat": 4,
 "nbformat_minor": 4
}
